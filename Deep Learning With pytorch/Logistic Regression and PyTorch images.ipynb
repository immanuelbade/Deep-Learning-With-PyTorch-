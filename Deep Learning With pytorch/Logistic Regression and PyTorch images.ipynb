{
 "cells": [
  {
   "cell_type": "code",
   "execution_count": 1,
   "id": "993491f4",
   "metadata": {},
   "outputs": [],
   "source": [
    "import torch\n",
    "import torchvision\n",
    "from torchvision.datasets import MNIST"
   ]
  },
  {
   "cell_type": "code",
   "execution_count": 2,
   "id": "1d998b38",
   "metadata": {},
   "outputs": [],
   "source": [
    "dataset = MNIST(root='data/', download=True)"
   ]
  },
  {
   "cell_type": "code",
   "execution_count": 3,
   "id": "56490b23",
   "metadata": {},
   "outputs": [
    {
     "data": {
      "text/plain": [
       "60000"
      ]
     },
     "execution_count": 3,
     "metadata": {},
     "output_type": "execute_result"
    }
   ],
   "source": [
    "len(dataset)"
   ]
  },
  {
   "cell_type": "code",
   "execution_count": 4,
   "id": "f7cd0b2a",
   "metadata": {},
   "outputs": [
    {
     "data": {
      "text/plain": [
       "10000"
      ]
     },
     "execution_count": 4,
     "metadata": {},
     "output_type": "execute_result"
    }
   ],
   "source": [
    "test_dataset = MNIST(root='data/', train=False)\n",
    "len(test_dataset)"
   ]
  },
  {
   "cell_type": "code",
   "execution_count": 5,
   "id": "49d17cb5",
   "metadata": {},
   "outputs": [
    {
     "data": {
      "text/plain": [
       "(<PIL.Image.Image image mode=L size=28x28 at 0x7F8EF47C3340>, 5)"
      ]
     },
     "execution_count": 5,
     "metadata": {},
     "output_type": "execute_result"
    }
   ],
   "source": [
    "dataset[0]"
   ]
  },
  {
   "cell_type": "code",
   "execution_count": 6,
   "id": "294ce735",
   "metadata": {},
   "outputs": [],
   "source": [
    "import matplotlib.pyplot as plt\n",
    "%matplotlib inline"
   ]
  },
  {
   "cell_type": "code",
   "execution_count": 7,
   "id": "9d8377b1",
   "metadata": {},
   "outputs": [
    {
     "name": "stdout",
     "output_type": "stream",
     "text": [
      "Label: 5\n"
     ]
    },
    {
     "data": {
      "image/png": "[encoded data removed]",
      "text/plain": [
       "<Figure size 432x288 with 1 Axes>"
      ]
     },
     "metadata": {
      "needs_background": "light"
     },
     "output_type": "display_data"
    }
   ],
   "source": [
    "image, label = dataset[0]\n",
    "plt.imshow(image, cmap='gray')\n",
    "print('Label:', label)"
   ]
  },
  {
   "cell_type": "code",
   "execution_count": 8,
   "id": "119cda51",
   "metadata": {},
   "outputs": [
    {
     "name": "stdout",
     "output_type": "stream",
     "text": [
      "Label: 3\n"
     ]
    },
    {
     "data": {
      "image/png": "[encoded data removed]",
      "text/plain": [
       "<Figure size 432x288 with 1 Axes>"
      ]
     },
     "metadata": {
      "needs_background": "light"
     },
     "output_type": "display_data"
    }
   ],
   "source": [
    "image, label = dataset[10]\n",
    "plt.imshow(image, cmap='gray')\n",
    "print('Label:', label)"
   ]
  },
  {
   "cell_type": "code",
   "execution_count": 9,
   "id": "8a8991ca",
   "metadata": {},
   "outputs": [],
   "source": [
    "import torchvision.transforms as transforms"
   ]
  },
  {
   "cell_type": "code",
   "execution_count": 10,
   "id": "9a81b384",
   "metadata": {},
   "outputs": [],
   "source": [
    "dataset = MNIST(root='data/', \n",
    "                train=True,\n",
    "                transform=transforms.ToTensor())"
   ]
  },
  {
   "cell_type": "code",
   "execution_count": 11,
   "id": "dc11f753",
   "metadata": {},
   "outputs": [
    {
     "name": "stdout",
     "output_type": "stream",
     "text": [
      "torch.Size([1, 28, 28]) 5\n"
     ]
    }
   ],
   "source": [
    "img_tensor, label = dataset[0]\n",
    "print(img_tensor.shape, label)"
   ]
  },
  {
   "cell_type": "code",
   "execution_count": 12,
   "id": "185b7d6d",
   "metadata": {},
   "outputs": [
    {
     "name": "stdout",
     "output_type": "stream",
     "text": [
      "tensor([[0.0039, 0.6039, 0.9922, 0.3529, 0.0000],\n",
      "        [0.0000, 0.5451, 0.9922, 0.7451, 0.0078],\n",
      "        [0.0000, 0.0431, 0.7451, 0.9922, 0.2745],\n",
      "        [0.0000, 0.0000, 0.1373, 0.9451, 0.8824],\n",
      "        [0.0000, 0.0000, 0.0000, 0.3176, 0.9412]])\n",
      "tensor(1.) tensor(0.)\n"
     ]
    }
   ],
   "source": [
    "print(img_tensor[0,10:15,10:15])\n",
    "print(torch.max(img_tensor), torch.min(img_tensor))"
   ]
  },
  {
   "cell_type": "code",
   "execution_count": 14,
   "id": "489afbad",
   "metadata": {},
   "outputs": [
    {
     "data": {
      "image/png": "[encoded data removed]",
      "text/plain": [
       "<Figure size 432x288 with 1 Axes>"
      ]
     },
     "metadata": {
      "needs_background": "light"
     },
     "output_type": "display_data"
    }
   ],
   "source": [
    "plt.imshow(img_tensor[0,10:15,10:15], cmap='gray');"
   ]
  },
  {
   "cell_type": "code",
   "execution_count": 15,
   "id": "9bd38c1d",
   "metadata": {},
   "outputs": [
    {
     "data": {
      "text/plain": [
       "(50000, 10000)"
      ]
     },
     "execution_count": 15,
     "metadata": {},
     "output_type": "execute_result"
    }
   ],
   "source": [
    "from torch.utils.data import random_split\n",
    "\n",
    "train_ds, val_ds = random_split(dataset, [50000, 10000])\n",
    "len(train_ds), len(val_ds)"
   ]
  },
  {
   "cell_type": "code",
   "execution_count": 16,
   "id": "5e32d73c",
   "metadata": {},
   "outputs": [],
   "source": [
    "from torch.utils.data import DataLoader\n",
    "\n",
    "batch_size = 128\n",
    "\n",
    "train_loader = DataLoader(train_ds, batch_size, shuffle=True)\n",
    "val_loader = DataLoader(val_ds, batch_size)"
   ]
  },
  {
   "cell_type": "code",
   "execution_count": 17,
   "id": "145c8b0c",
   "metadata": {},
   "outputs": [],
   "source": [
    "import torch.nn as nn\n",
    "\n",
    "input_size = 28*28\n",
    "num_classes = 10\n",
    "\n",
    "\n",
    "model = nn.Linear(input_size, num_classes)"
   ]
  },
  {
   "cell_type": "code",
   "execution_count": 18,
   "id": "5ee708af",
   "metadata": {},
   "outputs": [
    {
     "name": "stdout",
     "output_type": "stream",
     "text": [
      "torch.Size([10, 784])\n"
     ]
    },
    {
     "data": {
      "text/plain": [
       "Parameter containing:\n",
       "tensor([[ 0.0198, -0.0258, -0.0340,  ..., -0.0015,  0.0031, -0.0287],\n",
       "        [-0.0140, -0.0059, -0.0070,  ..., -0.0180, -0.0226,  0.0155],\n",
       "        [ 0.0149, -0.0113,  0.0086,  ...,  0.0281,  0.0277,  0.0098],\n",
       "        ...,\n",
       "        [ 0.0191, -0.0260, -0.0014,  ..., -0.0035, -0.0089,  0.0097],\n",
       "        [ 0.0249,  0.0146, -0.0116,  ..., -0.0008,  0.0262, -0.0167],\n",
       "        [ 0.0029,  0.0240,  0.0123,  ...,  0.0323, -0.0052,  0.0212]],\n",
       "       requires_grad=True)"
      ]
     },
     "execution_count": 18,
     "metadata": {},
     "output_type": "execute_result"
    }
   ],
   "source": [
    "print(model.weight.shape)\n",
    "model.weight"
   ]
  },
  {
   "cell_type": "code",
   "execution_count": 19,
   "id": "2e39e962",
   "metadata": {},
   "outputs": [
    {
     "name": "stdout",
     "output_type": "stream",
     "text": [
      "torch.Size([10])\n"
     ]
    },
    {
     "data": {
      "text/plain": [
       "Parameter containing:\n",
       "tensor([ 0.0344, -0.0297, -0.0138, -0.0268, -0.0012, -0.0134, -0.0101, -0.0251,\n",
       "        -0.0095,  0.0025], requires_grad=True)"
      ]
     },
     "execution_count": 19,
     "metadata": {},
     "output_type": "execute_result"
    }
   ],
   "source": [
    "print(model.bias.shape)\n",
    "model.bias"
   ]
  },
  {
   "cell_type": "code",
   "execution_count": 20,
   "id": "b3305434",
   "metadata": {},
   "outputs": [
    {
     "name": "stdout",
     "output_type": "stream",
     "text": [
      "tensor([3, 9, 5, 7, 7, 1, 5, 8, 7, 1, 1, 2, 5, 4, 4, 7, 4, 9, 6, 6, 6, 9, 1, 8,\n",
      "        8, 0, 2, 7, 4, 0, 2, 8, 0, 9, 0, 3, 7, 2, 1, 3, 7, 2, 3, 6, 1, 2, 9, 0,\n",
      "        2, 8, 7, 9, 4, 8, 5, 7, 7, 5, 2, 7, 5, 2, 1, 2, 4, 1, 4, 4, 9, 8, 4, 1,\n",
      "        4, 4, 1, 6, 4, 1, 5, 0, 8, 9, 1, 9, 3, 7, 7, 3, 0, 7, 1, 3, 9, 8, 1, 3,\n",
      "        8, 9, 4, 5, 1, 9, 7, 1, 4, 1, 9, 8, 8, 4, 1, 2, 7, 7, 1, 7, 6, 6, 5, 1,\n",
      "        6, 5, 1, 4, 7, 1, 0, 3])\n",
      "torch.Size([128, 1, 28, 28])\n"
     ]
    },
    {
     "ename": "RuntimeError",
     "evalue": "mat1 and mat2 shapes cannot be multiplied (3584x28 and 784x10)",
     "output_type": "error",
     "traceback": [
      "\u001b[0;31m---------------------------------------------------------------------------\u001b[0m",
      "\u001b[0;31mRuntimeError\u001b[0m                              Traceback (most recent call last)",
      "\u001b[0;32m/var/folders/gf/jkn1gdks7lz8fwq93gjjwgj00000gp/T/ipykernel_27517/1974446091.py\u001b[0m in \u001b[0;36m<module>\u001b[0;34m\u001b[0m\n\u001b[1;32m      2\u001b[0m     \u001b[0mprint\u001b[0m\u001b[0;34m(\u001b[0m\u001b[0mlabels\u001b[0m\u001b[0;34m)\u001b[0m\u001b[0;34m\u001b[0m\u001b[0;34m\u001b[0m\u001b[0m\n\u001b[1;32m      3\u001b[0m     \u001b[0mprint\u001b[0m\u001b[0;34m(\u001b[0m\u001b[0mimages\u001b[0m\u001b[0;34m.\u001b[0m\u001b[0mshape\u001b[0m\u001b[0;34m)\u001b[0m\u001b[0;34m\u001b[0m\u001b[0;34m\u001b[0m\u001b[0m\n\u001b[0;32m----> 4\u001b[0;31m     \u001b[0moutputs\u001b[0m \u001b[0;34m=\u001b[0m \u001b[0mmodel\u001b[0m\u001b[0;34m(\u001b[0m\u001b[0mimages\u001b[0m\u001b[0;34m)\u001b[0m\u001b[0;34m\u001b[0m\u001b[0;34m\u001b[0m\u001b[0m\n\u001b[0m\u001b[1;32m      5\u001b[0m     \u001b[0mprint\u001b[0m\u001b[0;34m(\u001b[0m\u001b[0moutputs\u001b[0m\u001b[0;34m)\u001b[0m\u001b[0;34m\u001b[0m\u001b[0;34m\u001b[0m\u001b[0m\n\u001b[1;32m      6\u001b[0m     \u001b[0;32mbreak\u001b[0m\u001b[0;34m\u001b[0m\u001b[0;34m\u001b[0m\u001b[0m\n",
      "\u001b[0;32m~/opt/anaconda3/lib/python3.9/site-packages/torch/nn/modules/module.py\u001b[0m in \u001b[0;36m_call_impl\u001b[0;34m(self, *input, **kwargs)\u001b[0m\n\u001b[1;32m   1128\u001b[0m         if not (self._backward_hooks or self._forward_hooks or self._forward_pre_hooks or _global_backward_hooks\n\u001b[1;32m   1129\u001b[0m                 or _global_forward_hooks or _global_forward_pre_hooks):\n\u001b[0;32m-> 1130\u001b[0;31m             \u001b[0;32mreturn\u001b[0m \u001b[0mforward_call\u001b[0m\u001b[0;34m(\u001b[0m\u001b[0;34m*\u001b[0m\u001b[0minput\u001b[0m\u001b[0;34m,\u001b[0m \u001b[0;34m**\u001b[0m\u001b[0mkwargs\u001b[0m\u001b[0;34m)\u001b[0m\u001b[0;34m\u001b[0m\u001b[0;34m\u001b[0m\u001b[0m\n\u001b[0m\u001b[1;32m   1131\u001b[0m         \u001b[0;31m# Do not call functions when jit is used\u001b[0m\u001b[0;34m\u001b[0m\u001b[0;34m\u001b[0m\u001b[0m\n\u001b[1;32m   1132\u001b[0m         \u001b[0mfull_backward_hooks\u001b[0m\u001b[0;34m,\u001b[0m \u001b[0mnon_full_backward_hooks\u001b[0m \u001b[0;34m=\u001b[0m \u001b[0;34m[\u001b[0m\u001b[0;34m]\u001b[0m\u001b[0;34m,\u001b[0m \u001b[0;34m[\u001b[0m\u001b[0;34m]\u001b[0m\u001b[0;34m\u001b[0m\u001b[0;34m\u001b[0m\u001b[0m\n",
      "\u001b[0;32m~/opt/anaconda3/lib/python3.9/site-packages/torch/nn/modules/linear.py\u001b[0m in \u001b[0;36mforward\u001b[0;34m(self, input)\u001b[0m\n\u001b[1;32m    112\u001b[0m \u001b[0;34m\u001b[0m\u001b[0m\n\u001b[1;32m    113\u001b[0m     \u001b[0;32mdef\u001b[0m \u001b[0mforward\u001b[0m\u001b[0;34m(\u001b[0m\u001b[0mself\u001b[0m\u001b[0;34m,\u001b[0m \u001b[0minput\u001b[0m\u001b[0;34m:\u001b[0m \u001b[0mTensor\u001b[0m\u001b[0;34m)\u001b[0m \u001b[0;34m->\u001b[0m \u001b[0mTensor\u001b[0m\u001b[0;34m:\u001b[0m\u001b[0;34m\u001b[0m\u001b[0;34m\u001b[0m\u001b[0m\n\u001b[0;32m--> 114\u001b[0;31m         \u001b[0;32mreturn\u001b[0m \u001b[0mF\u001b[0m\u001b[0;34m.\u001b[0m\u001b[0mlinear\u001b[0m\u001b[0;34m(\u001b[0m\u001b[0minput\u001b[0m\u001b[0;34m,\u001b[0m \u001b[0mself\u001b[0m\u001b[0;34m.\u001b[0m\u001b[0mweight\u001b[0m\u001b[0;34m,\u001b[0m \u001b[0mself\u001b[0m\u001b[0;34m.\u001b[0m\u001b[0mbias\u001b[0m\u001b[0;34m)\u001b[0m\u001b[0;34m\u001b[0m\u001b[0;34m\u001b[0m\u001b[0m\n\u001b[0m\u001b[1;32m    115\u001b[0m \u001b[0;34m\u001b[0m\u001b[0m\n\u001b[1;32m    116\u001b[0m     \u001b[0;32mdef\u001b[0m \u001b[0mextra_repr\u001b[0m\u001b[0;34m(\u001b[0m\u001b[0mself\u001b[0m\u001b[0;34m)\u001b[0m \u001b[0;34m->\u001b[0m \u001b[0mstr\u001b[0m\u001b[0;34m:\u001b[0m\u001b[0;34m\u001b[0m\u001b[0;34m\u001b[0m\u001b[0m\n",
      "\u001b[0;31mRuntimeError\u001b[0m: mat1 and mat2 shapes cannot be multiplied (3584x28 and 784x10)"
     ]
    }
   ],
   "source": [
    "for images, labels in train_loader:\n",
    "    print(labels)\n",
    "    print(images.shape)\n",
    "    outputs = model(images)\n",
    "    print(outputs)\n",
    "    break"
   ]
  },
  {
   "cell_type": "code",
   "execution_count": null,
   "id": "a1cb6df7",
   "metadata": {},
   "outputs": [],
   "source": [
    "images.shape"
   ]
  },
  {
   "cell_type": "code",
   "execution_count": 21,
   "id": "93995e6f",
   "metadata": {},
   "outputs": [
    {
     "data": {
      "text/plain": [
       "torch.Size([128, 784])"
      ]
     },
     "execution_count": 21,
     "metadata": {},
     "output_type": "execute_result"
    }
   ],
   "source": [
    "images.reshape(128, 784).shape"
   ]
  },
  {
   "cell_type": "code",
   "execution_count": 22,
   "id": "4f970b20",
   "metadata": {},
   "outputs": [],
   "source": [
    "class MnistModel(nn.Module):\n",
    "    def __init__(self):\n",
    "        super().__init__()\n",
    "        self.linear = nn.Linear(input_size, num_classes)\n",
    "        \n",
    "    def forward(self, xb):\n",
    "        xb = xb.reshape(-1, 784)\n",
    "        out = self.linear(xb)\n",
    "        return out\n",
    "    \n",
    "model = MnistModel()"
   ]
  },
  {
   "cell_type": "code",
   "execution_count": 23,
   "id": "89fd7d5d",
   "metadata": {},
   "outputs": [
    {
     "data": {
      "text/plain": [
       "Linear(in_features=784, out_features=10, bias=True)"
      ]
     },
     "execution_count": 23,
     "metadata": {},
     "output_type": "execute_result"
    }
   ],
   "source": [
    "model.linear"
   ]
  },
  {
   "cell_type": "code",
   "execution_count": 24,
   "id": "e5657649",
   "metadata": {},
   "outputs": [
    {
     "name": "stdout",
     "output_type": "stream",
     "text": [
      "torch.Size([10, 784]) torch.Size([10])\n"
     ]
    },
    {
     "data": {
      "text/plain": [
       "[Parameter containing:\n",
       " tensor([[ 0.0016, -0.0099, -0.0352,  ..., -0.0039,  0.0059, -0.0313],\n",
       "         [ 0.0153, -0.0143,  0.0227,  ...,  0.0029,  0.0194,  0.0139],\n",
       "         [ 0.0017, -0.0262,  0.0136,  ...,  0.0061, -0.0317,  0.0041],\n",
       "         ...,\n",
       "         [ 0.0206,  0.0123,  0.0045,  ..., -0.0236,  0.0327,  0.0090],\n",
       "         [-0.0294, -0.0334,  0.0320,  ..., -0.0160,  0.0150,  0.0313],\n",
       "         [-0.0303, -0.0228, -0.0039,  ..., -0.0099,  0.0088, -0.0241]],\n",
       "        requires_grad=True),\n",
       " Parameter containing:\n",
       " tensor([ 0.0346, -0.0060,  0.0216,  0.0270,  0.0051,  0.0008, -0.0185,  0.0081,\n",
       "          0.0147, -0.0222], requires_grad=True)]"
      ]
     },
     "execution_count": 24,
     "metadata": {},
     "output_type": "execute_result"
    }
   ],
   "source": [
    "print(model.linear.weight.shape, model.linear.bias.shape)\n",
    "list(model.parameters())"
   ]
  },
  {
   "cell_type": "code",
   "execution_count": 25,
   "id": "c65499be",
   "metadata": {},
   "outputs": [
    {
     "name": "stdout",
     "output_type": "stream",
     "text": [
      "torch.Size([128, 1, 28, 28])\n",
      "outputs.shape :  torch.Size([128, 10])\n",
      "Sample outputs :\n",
      " tensor([[-0.1902, -0.2411,  0.0686, -0.2469,  0.1724,  0.0542, -0.0366, -0.2625,\n",
      "          0.0245, -0.4584],\n",
      "        [-0.0550, -0.1171,  0.0370, -0.3789,  0.1615,  0.2811,  0.1288, -0.1631,\n",
      "          0.1135, -0.2314],\n",
      "        [-0.0065, -0.1153, -0.1993,  0.1308,  0.1441,  0.1788, -0.1081, -0.1439,\n",
      "         -0.0444, -0.0381]])\n"
     ]
    }
   ],
   "source": [
    "for images, labels in train_loader:\n",
    "    print(images.shape)\n",
    "    outputs = model(images)\n",
    "    break\n",
    "\n",
    "print('outputs.shape : ', outputs.shape)\n",
    "print('Sample outputs :\\n', outputs[:3].data)"
   ]
  },
  {
   "cell_type": "code",
   "execution_count": 26,
   "id": "782029d2",
   "metadata": {},
   "outputs": [],
   "source": [
    "import torch.nn.functional as F"
   ]
  },
  {
   "cell_type": "code",
   "execution_count": 27,
   "id": "a1ccb180",
   "metadata": {},
   "outputs": [
    {
     "data": {
      "text/plain": [
       "tensor([[-0.1902, -0.2411,  0.0686, -0.2469,  0.1724,  0.0542, -0.0366, -0.2625,\n",
       "          0.0245, -0.4584],\n",
       "        [-0.0550, -0.1171,  0.0370, -0.3789,  0.1615,  0.2811,  0.1288, -0.1631,\n",
       "          0.1135, -0.2314]], grad_fn=<SliceBackward0>)"
      ]
     },
     "execution_count": 27,
     "metadata": {},
     "output_type": "execute_result"
    }
   ],
   "source": [
    "outputs[:2]"
   ]
  },
  {
   "cell_type": "code",
   "execution_count": 28,
   "id": "fdffa764",
   "metadata": {},
   "outputs": [
    {
     "name": "stdout",
     "output_type": "stream",
     "text": [
      "Sample probabilities:\n",
      " tensor([[0.0909, 0.0864, 0.1177, 0.0859, 0.1306, 0.1160, 0.1060, 0.0845, 0.1126,\n",
      "         0.0695],\n",
      "        [0.0950, 0.0893, 0.1042, 0.0687, 0.1180, 0.1330, 0.1142, 0.0853, 0.1125,\n",
      "         0.0797]])\n",
      "Sum:  0.9999999403953552\n"
     ]
    }
   ],
   "source": [
    "probs = F.softmax(outputs, dim=1)\n",
    "\n",
    "\n",
    "print(\"Sample probabilities:\\n\", probs[:2].data)\n",
    "\n",
    "\n",
    "print(\"Sum: \", torch.sum(probs[0]).item())"
   ]
  },
  {
   "cell_type": "code",
   "execution_count": 29,
   "id": "b935cee9",
   "metadata": {},
   "outputs": [
    {
     "name": "stdout",
     "output_type": "stream",
     "text": [
      "tensor([4, 5, 5, 5, 4, 5, 5, 5, 4, 4, 4, 4, 5, 4, 0, 5, 4, 4, 5, 5, 5, 3, 3, 5,\n",
      "        4, 1, 9, 5, 5, 8, 5, 5, 4, 5, 5, 5, 3, 4, 3, 5, 1, 5, 3, 3, 4, 4, 4, 4,\n",
      "        5, 4, 5, 4, 4, 4, 5, 4, 5, 4, 4, 7, 4, 4, 5, 5, 8, 0, 0, 4, 5, 4, 5, 6,\n",
      "        3, 3, 4, 5, 5, 4, 4, 4, 5, 3, 3, 4, 5, 3, 3, 5, 5, 0, 4, 2, 5, 5, 9, 5,\n",
      "        5, 6, 4, 4, 4, 5, 5, 5, 5, 3, 4, 4, 5, 5, 4, 9, 5, 5, 4, 5, 4, 2, 5, 4,\n",
      "        4, 1, 5, 4, 3, 4, 5, 5])\n",
      "tensor([0.1306, 0.1330, 0.1211, 0.1171, 0.1313, 0.1328, 0.1222, 0.1428, 0.1289,\n",
      "        0.1447, 0.1227, 0.1419, 0.1372, 0.1531, 0.1189, 0.1505, 0.1510, 0.1805,\n",
      "        0.1332, 0.1211, 0.1250, 0.1285, 0.1294, 0.1665, 0.1457, 0.1183, 0.1299,\n",
      "        0.1411, 0.1284, 0.1329, 0.1272, 0.1206, 0.1251, 0.1347, 0.1177, 0.1516,\n",
      "        0.1222, 0.1772, 0.1391, 0.1334, 0.1159, 0.1348, 0.1170, 0.1142, 0.1730,\n",
      "        0.1470, 0.1219, 0.1285, 0.1365, 0.1195, 0.1303, 0.1147, 0.1707, 0.1296,\n",
      "        0.1353, 0.1221, 0.1345, 0.1512, 0.1290, 0.1180, 0.1152, 0.1510, 0.1160,\n",
      "        0.1142, 0.1278, 0.1330, 0.1259, 0.1444, 0.1258, 0.1213, 0.1325, 0.1206,\n",
      "        0.1218, 0.1239, 0.1232, 0.1455, 0.1169, 0.1380, 0.1208, 0.1415, 0.1215,\n",
      "        0.1193, 0.1375, 0.1249, 0.1384, 0.1211, 0.1166, 0.1138, 0.1448, 0.1302,\n",
      "        0.1381, 0.1208, 0.1398, 0.1289, 0.1237, 0.1297, 0.1387, 0.1300, 0.1330,\n",
      "        0.1344, 0.1315, 0.1166, 0.1457, 0.1436, 0.1426, 0.1205, 0.1363, 0.1283,\n",
      "        0.1271, 0.1212, 0.1212, 0.1208, 0.1426, 0.1305, 0.1385, 0.1161, 0.1330,\n",
      "        0.1191, 0.1313, 0.1479, 0.1487, 0.1366, 0.1371, 0.1221, 0.1319, 0.1660,\n",
      "        0.1331, 0.1158], grad_fn=<MaxBackward0>)\n"
     ]
    }
   ],
   "source": [
    "max_probs, preds = torch.max(probs, dim=1)\n",
    "print(preds)\n",
    "print(max_probs)"
   ]
  },
  {
   "cell_type": "code",
   "execution_count": 30,
   "id": "29439b28",
   "metadata": {},
   "outputs": [
    {
     "data": {
      "text/plain": [
       "tensor([6, 0, 2, 6, 4, 7, 1, 1, 3, 7, 9, 7, 5, 6, 0, 7, 2, 6, 4, 1, 3, 1, 1, 7,\n",
       "        0, 3, 5, 0, 8, 8, 7, 0, 4, 3, 3, 7, 8, 4, 7, 1, 9, 7, 8, 3, 2, 3, 9, 2,\n",
       "        0, 9, 1, 4, 9, 2, 7, 8, 8, 4, 9, 0, 9, 9, 4, 1, 0, 6, 1, 4, 0, 5, 7, 9,\n",
       "        8, 8, 3, 0, 9, 9, 4, 2, 1, 6, 1, 1, 0, 5, 7, 1, 7, 0, 2, 2, 7, 7, 3, 9,\n",
       "        1, 2, 3, 4, 2, 0, 7, 1, 4, 8, 7, 8, 2, 7, 8, 3, 8, 7, 8, 6, 2, 4, 0, 3,\n",
       "        3, 8, 5, 2, 8, 4, 0, 4])"
      ]
     },
     "execution_count": 30,
     "metadata": {},
     "output_type": "execute_result"
    }
   ],
   "source": [
    "labels\n"
   ]
  },
  {
   "cell_type": "code",
   "execution_count": 31,
   "id": "bb499154",
   "metadata": {},
   "outputs": [
    {
     "data": {
      "text/plain": [
       "tensor([[-0.1902, -0.2411,  0.0686, -0.2469,  0.1724,  0.0542, -0.0366, -0.2625,\n",
       "          0.0245, -0.4584],\n",
       "        [-0.0550, -0.1171,  0.0370, -0.3789,  0.1615,  0.2811,  0.1288, -0.1631,\n",
       "          0.1135, -0.2314]], grad_fn=<SliceBackward0>)"
      ]
     },
     "execution_count": 31,
     "metadata": {},
     "output_type": "execute_result"
    }
   ],
   "source": [
    "outputs[:2]"
   ]
  },
  {
   "cell_type": "code",
   "execution_count": 32,
   "id": "5e5866e6",
   "metadata": {},
   "outputs": [
    {
     "data": {
      "text/plain": [
       "tensor(16)"
      ]
     },
     "execution_count": 32,
     "metadata": {},
     "output_type": "execute_result"
    }
   ],
   "source": [
    "torch.sum(preds == labels)"
   ]
  },
  {
   "cell_type": "code",
   "execution_count": 33,
   "id": "7b1c66e5",
   "metadata": {},
   "outputs": [],
   "source": [
    "def accuracy(outputs, labels):\n",
    "    _, preds = torch.max(outputs, dim=1)\n",
    "    return torch.tensor(torch.sum(preds == labels).item() / len(preds))"
   ]
  },
  {
   "cell_type": "code",
   "execution_count": 34,
   "id": "7a646424",
   "metadata": {},
   "outputs": [
    {
     "data": {
      "text/plain": [
       "tensor(0.1250)"
      ]
     },
     "execution_count": 34,
     "metadata": {},
     "output_type": "execute_result"
    }
   ],
   "source": [
    "accuracy(outputs, labels)"
   ]
  },
  {
   "cell_type": "code",
   "execution_count": 35,
   "id": "78869a8d",
   "metadata": {},
   "outputs": [
    {
     "data": {
      "text/plain": [
       "tensor([[0.0909, 0.0864, 0.1177,  ..., 0.0845, 0.1126, 0.0695],\n",
       "        [0.0950, 0.0893, 0.1042,  ..., 0.0853, 0.1125, 0.0797],\n",
       "        [0.1006, 0.0902, 0.0830,  ..., 0.0877, 0.0968, 0.0975],\n",
       "        ...,\n",
       "        [0.1000, 0.1058, 0.0770,  ..., 0.0839, 0.0771, 0.0964],\n",
       "        [0.1100, 0.1229, 0.0895,  ..., 0.0890, 0.0985, 0.0874],\n",
       "        [0.0819, 0.0990, 0.1045,  ..., 0.0948, 0.0901, 0.0867]],\n",
       "       grad_fn=<SoftmaxBackward0>)"
      ]
     },
     "execution_count": 35,
     "metadata": {},
     "output_type": "execute_result"
    }
   ],
   "source": [
    "probs"
   ]
  },
  {
   "cell_type": "code",
   "execution_count": 36,
   "id": "27ba8c39",
   "metadata": {},
   "outputs": [
    {
     "data": {
      "text/plain": [
       "tensor([[-0.1902, -0.2411,  0.0686,  ..., -0.2625,  0.0245, -0.4584],\n",
       "        [-0.0550, -0.1171,  0.0370,  ..., -0.1631,  0.1135, -0.2314],\n",
       "        [-0.0065, -0.1153, -0.1993,  ..., -0.1439, -0.0444, -0.0381],\n",
       "        ...,\n",
       "        [ 0.0093,  0.0658, -0.2525,  ..., -0.1658, -0.2505, -0.0278],\n",
       "        [ 0.1270,  0.2381, -0.0798,  ..., -0.0855,  0.0164, -0.1037],\n",
       "        [-0.2946, -0.1048, -0.0508,  ..., -0.1484, -0.1989, -0.2380]],\n",
       "       grad_fn=<AddmmBackward0>)"
      ]
     },
     "execution_count": 36,
     "metadata": {},
     "output_type": "execute_result"
    }
   ],
   "source": [
    "outputs"
   ]
  },
  {
   "cell_type": "code",
   "execution_count": 37,
   "id": "e398afeb",
   "metadata": {},
   "outputs": [],
   "source": [
    "loss_fn = F.cross_entropy"
   ]
  },
  {
   "cell_type": "code",
   "execution_count": 38,
   "id": "7fa55d13",
   "metadata": {},
   "outputs": [
    {
     "name": "stdout",
     "output_type": "stream",
     "text": [
      "tensor(2.2996, grad_fn=<NllLossBackward0>)\n"
     ]
    }
   ],
   "source": [
    "loss = loss_fn(outputs, labels)\n",
    "print(loss)"
   ]
  },
  {
   "cell_type": "code",
   "execution_count": 43,
   "id": "96876624",
   "metadata": {},
   "outputs": [],
   "source": [
    "def fit(epochs, lr, model, train_loader, val_loader, opt_func=torch.optim.SGD):\n",
    "    optimizer = opt_func(model.parameters(), lr)\n",
    "    history = [] \n",
    "    \n",
    "    for epoch in range(epochs):\n",
    "        \n",
    "        # Training Phase \n",
    "        for batch in train_loader:\n",
    "            loss = model.training_step(batch)\n",
    "            loss.backward()\n",
    "            optimizer.step()\n",
    "            optimizer.zero_grad()\n",
    "        \n",
    "        # Validation phase\n",
    "        result = evaluate(model, val_loader)\n",
    "        model.epoch_end(epoch, result)\n",
    "        history.append(result)\n",
    "\n",
    "    return history"
   ]
  },
  {
   "cell_type": "code",
   "execution_count": null,
   "id": "6f9a45b7",
   "metadata": {},
   "outputs": [],
   "source": []
  },
  {
   "cell_type": "code",
   "execution_count": 44,
   "id": "2727fc6e",
   "metadata": {},
   "outputs": [],
   "source": [
    "l1 = [1, 2, 3, 4, 5]"
   ]
  },
  {
   "cell_type": "code",
   "execution_count": 45,
   "id": "b2c8233a",
   "metadata": {},
   "outputs": [
    {
     "data": {
      "text/plain": [
       "[2, 4, 6, 8, 10]"
      ]
     },
     "execution_count": 45,
     "metadata": {},
     "output_type": "execute_result"
    }
   ],
   "source": [
    "l2 = [x*2 for x in l1]\n",
    "l2"
   ]
  },
  {
   "cell_type": "code",
   "execution_count": 46,
   "id": "a1796339",
   "metadata": {},
   "outputs": [],
   "source": [
    "def evaluate(model, val_loader):\n",
    "    outputs = [model.validation_step(batch) for batch in val_loader]\n",
    "    return model.validation_epoch_end(outputs)"
   ]
  },
  {
   "cell_type": "code",
   "execution_count": 50,
   "id": "76e2e766",
   "metadata": {},
   "outputs": [],
   "source": [
    "class MnistModel(nn.Module):\n",
    "    def __init__(self):\n",
    "        super().__init__()\n",
    "        self.linear = nn.Linear(input_size, num_classes)\n",
    "        \n",
    "    def forward(self, xb):\n",
    "        xb = xb.reshape(-1, 784)\n",
    "        out = self.linear(xb)\n",
    "        return out\n",
    "    \n",
    "    def training_step(self, batch):\n",
    "        images, labels = batch \n",
    "        out = self(images)                  # Generating predictions\n",
    "        loss = F.cross_entropy(out, labels) # Calculating loss\n",
    "        return loss\n",
    "    \n",
    "    def validation_step(self, batch):\n",
    "        images, labels = batch \n",
    "        out = self(images)                    # Generating predictions\n",
    "        loss = F.cross_entropy(out, labels)   # Calculating loss\n",
    "        acc = accuracy(out, labels)           # Calculating accuracy\n",
    "        return {'val_loss': loss, 'val_acc': acc}\n",
    "        \n",
    "    def validation_epoch_end(self, outputs):\n",
    "        batch_losses = [x['val_loss'] for x in outputs]\n",
    "        epoch_loss = torch.stack(batch_losses).mean()   # Combine losses\n",
    "        batch_accs = [x['val_acc'] for x in outputs]\n",
    "        epoch_acc = torch.stack(batch_accs).mean()      # Combine accuracies\n",
    "        return {'val_loss': epoch_loss.item(), 'val_acc': epoch_acc.item()}\n",
    "    \n",
    "    def epoch_end(self, epoch, result):\n",
    "        print(\"Epoch [{}], val_loss: {:.4f}, val_acc: {:.4f}\".format(epoch, result['val_loss'], result['val_acc']))\n",
    "    \n",
    "model = MnistModel()"
   ]
  },
  {
   "cell_type": "code",
   "execution_count": 51,
   "id": "f0e7bc30",
   "metadata": {},
   "outputs": [
    {
     "data": {
      "text/plain": [
       "{'val_loss': 2.3134536743164062, 'val_acc': 0.12440664321184158}"
      ]
     },
     "execution_count": 51,
     "metadata": {},
     "output_type": "execute_result"
    }
   ],
   "source": [
    "result0 = evaluate(model, val_loader)\n",
    "result0"
   ]
  },
  {
   "cell_type": "code",
   "execution_count": 52,
   "id": "9b054142",
   "metadata": {},
   "outputs": [
    {
     "name": "stdout",
     "output_type": "stream",
     "text": [
      "Epoch [0], val_loss: 1.9445, val_acc: 0.6385\n",
      "Epoch [1], val_loss: 1.6759, val_acc: 0.7428\n",
      "Epoch [2], val_loss: 1.4762, val_acc: 0.7664\n",
      "Epoch [3], val_loss: 1.3260, val_acc: 0.7830\n",
      "Epoch [4], val_loss: 1.2105, val_acc: 0.7952\n"
     ]
    }
   ],
   "source": [
    "history1 = fit(5, 0.001, model, train_loader, val_loader)"
   ]
  },
  {
   "cell_type": "code",
   "execution_count": 53,
   "id": "9648b96e",
   "metadata": {},
   "outputs": [
    {
     "name": "stdout",
     "output_type": "stream",
     "text": [
      "Epoch [0], val_loss: 1.1197, val_acc: 0.8050\n",
      "Epoch [1], val_loss: 1.0468, val_acc: 0.8113\n",
      "Epoch [2], val_loss: 0.9871, val_acc: 0.8172\n",
      "Epoch [3], val_loss: 0.9373, val_acc: 0.8224\n",
      "Epoch [4], val_loss: 0.8952, val_acc: 0.8278\n"
     ]
    }
   ],
   "source": [
    "history2 = fit(5, 0.001, model, train_loader, val_loader)"
   ]
  },
  {
   "cell_type": "code",
   "execution_count": 54,
   "id": "d3ef61e7",
   "metadata": {},
   "outputs": [
    {
     "name": "stdout",
     "output_type": "stream",
     "text": [
      "Epoch [0], val_loss: 0.8591, val_acc: 0.8326\n",
      "Epoch [1], val_loss: 0.8277, val_acc: 0.8361\n",
      "Epoch [2], val_loss: 0.8002, val_acc: 0.8396\n",
      "Epoch [3], val_loss: 0.7759, val_acc: 0.8414\n",
      "Epoch [4], val_loss: 0.7542, val_acc: 0.8438\n"
     ]
    }
   ],
   "source": [
    "history3 = fit(5, 0.001, model, train_loader, val_loader)"
   ]
  },
  {
   "cell_type": "code",
   "execution_count": 55,
   "id": "c36b8c1a",
   "metadata": {},
   "outputs": [
    {
     "name": "stdout",
     "output_type": "stream",
     "text": [
      "Epoch [0], val_loss: 0.7347, val_acc: 0.8457\n",
      "Epoch [1], val_loss: 0.7172, val_acc: 0.8474\n",
      "Epoch [2], val_loss: 0.7012, val_acc: 0.8492\n",
      "Epoch [3], val_loss: 0.6866, val_acc: 0.8515\n",
      "Epoch [4], val_loss: 0.6732, val_acc: 0.8528\n",
      "Epoch [5], val_loss: 0.6609, val_acc: 0.8543\n",
      "Epoch [6], val_loss: 0.6495, val_acc: 0.8560\n",
      "Epoch [7], val_loss: 0.6389, val_acc: 0.8577\n",
      "Epoch [8], val_loss: 0.6291, val_acc: 0.8589\n",
      "Epoch [9], val_loss: 0.6199, val_acc: 0.8592\n"
     ]
    }
   ],
   "source": [
    "history4 = fit(10, 0.001, model, train_loader, val_loader)"
   ]
  },
  {
   "cell_type": "code",
   "execution_count": 56,
   "id": "e8c6235f",
   "metadata": {},
   "outputs": [
    {
     "data": {
      "image/png": "[encoded data removed]",
      "text/plain": [
       "<Figure size 432x288 with 1 Axes>"
      ]
     },
     "metadata": {
      "needs_background": "light"
     },
     "output_type": "display_data"
    }
   ],
   "source": [
    "history = [result0] + history1 + history2 + history3 + history4\n",
    "accuracies = [result['val_acc'] for result in history]\n",
    "plt.plot(accuracies, '-x')\n",
    "plt.xlabel('epoch')\n",
    "plt.ylabel('accuracy')\n",
    "plt.title('Accuracy vs. No. of epochs');"
   ]
  },
  {
   "cell_type": "code",
   "execution_count": 57,
   "id": "50cde1b7",
   "metadata": {},
   "outputs": [],
   "source": [
    "test_dataset = MNIST(root='data/', \n",
    "                     train=False,\n",
    "                     transform=transforms.ToTensor())"
   ]
  },
  {
   "cell_type": "code",
   "execution_count": 58,
   "id": "bb7e2483",
   "metadata": {},
   "outputs": [
    {
     "name": "stdout",
     "output_type": "stream",
     "text": [
      "Shape: torch.Size([1, 28, 28])\n",
      "Label: 7\n"
     ]
    },
    {
     "data": {
      "image/png": "[encoded data removed]",
      "text/plain": [
       "<Figure size 432x288 with 1 Axes>"
      ]
     },
     "metadata": {
      "needs_background": "light"
     },
     "output_type": "display_data"
    }
   ],
   "source": [
    "img, label = test_dataset[0]\n",
    "plt.imshow(img[0], cmap='gray')\n",
    "print('Shape:', img.shape)\n",
    "print('Label:', label)"
   ]
  },
  {
   "cell_type": "code",
   "execution_count": 59,
   "id": "348070f2",
   "metadata": {},
   "outputs": [],
   "source": [
    "def predict_image(img, model):\n",
    "    xb = img.unsqueeze(0)\n",
    "    yb = model(xb)\n",
    "    _, preds = torch.max(yb, dim=1)\n",
    "    return preds[0].item()"
   ]
  },
  {
   "cell_type": "code",
   "execution_count": 60,
   "id": "77d39c53",
   "metadata": {},
   "outputs": [
    {
     "name": "stdout",
     "output_type": "stream",
     "text": [
      "Label: 7 , Predicted: 7\n"
     ]
    },
    {
     "data": {
      "image/png": "[encoded data removed]",
      "text/plain": [
       "<Figure size 432x288 with 1 Axes>"
      ]
     },
     "metadata": {
      "needs_background": "light"
     },
     "output_type": "display_data"
    }
   ],
   "source": [
    "img, label = test_dataset[0]\n",
    "plt.imshow(img[0], cmap='gray')\n",
    "print('Label:', label, ', Predicted:', predict_image(img, model))"
   ]
  },
  {
   "cell_type": "code",
   "execution_count": 61,
   "id": "4c892bfe",
   "metadata": {},
   "outputs": [
    {
     "name": "stdout",
     "output_type": "stream",
     "text": [
      "Label: 0 , Predicted: 0\n"
     ]
    },
    {
     "data": {
      "image/png": "[encoded data removed]",
      "text/plain": [
       "<Figure size 432x288 with 1 Axes>"
      ]
     },
     "metadata": {
      "needs_background": "light"
     },
     "output_type": "display_data"
    }
   ],
   "source": [
    "img, label = test_dataset[10]\n",
    "plt.imshow(img[0], cmap='gray')\n",
    "print('Label:', label, ', Predicted:', predict_image(img, model))"
   ]
  },
  {
   "cell_type": "code",
   "execution_count": 62,
   "id": "4f5af8d8",
   "metadata": {},
   "outputs": [
    {
     "name": "stdout",
     "output_type": "stream",
     "text": [
      "Label: 9 , Predicted: 9\n"
     ]
    },
    {
     "data": {
      "image/png": "[encoded data removed]",
      "text/plain": [
       "<Figure size 432x288 with 1 Axes>"
      ]
     },
     "metadata": {
      "needs_background": "light"
     },
     "output_type": "display_data"
    }
   ],
   "source": [
    "img, label = test_dataset[193]\n",
    "plt.imshow(img[0], cmap='gray')\n",
    "print('Label:', label, ', Predicted:', predict_image(img, model))"
   ]
  },
  {
   "cell_type": "code",
   "execution_count": 63,
   "id": "8dece355",
   "metadata": {},
   "outputs": [
    {
     "name": "stdout",
     "output_type": "stream",
     "text": [
      "Label: 2 , Predicted: 8\n"
     ]
    },
    {
     "data": {
      "image/png": "[encoded data removed]",
      "text/plain": [
       "<Figure size 432x288 with 1 Axes>"
      ]
     },
     "metadata": {
      "needs_background": "light"
     },
     "output_type": "display_data"
    }
   ],
   "source": [
    "img, label = test_dataset[1839]\n",
    "plt.imshow(img[0], cmap='gray')\n",
    "print('Label:', label, ', Predicted:', predict_image(img, model))"
   ]
  },
  {
   "cell_type": "code",
   "execution_count": 64,
   "id": "a92cc2a4",
   "metadata": {},
   "outputs": [
    {
     "name": "stdout",
     "output_type": "stream",
     "text": [
      "Label: 1 , Predicted: 1\n"
     ]
    },
    {
     "data": {
      "image/png": "[encoded data removed]",
      "text/plain": [
       "<Figure size 432x288 with 1 Axes>"
      ]
     },
     "metadata": {
      "needs_background": "light"
     },
     "output_type": "display_data"
    }
   ],
   "source": [
    "img, label = test_dataset[189]\n",
    "plt.imshow(img[0], cmap='gray')\n",
    "print('Label:', label, ', Predicted:', predict_image(img, model))"
   ]
  },
  {
   "cell_type": "code",
   "execution_count": 65,
   "id": "151a60ed",
   "metadata": {},
   "outputs": [
    {
     "name": "stdout",
     "output_type": "stream",
     "text": [
      "Label: 3 , Predicted: 3\n"
     ]
    },
    {
     "data": {
      "image/png": "[encoded data removed]",
      "text/plain": [
       "<Figure size 432x288 with 1 Axes>"
      ]
     },
     "metadata": {
      "needs_background": "light"
     },
     "output_type": "display_data"
    }
   ],
   "source": [
    "img, label = test_dataset[1539]\n",
    "plt.imshow(img[0], cmap='gray')\n",
    "print('Label:', label, ', Predicted:', predict_image(img, model))"
   ]
  },
  {
   "cell_type": "code",
   "execution_count": 66,
   "id": "d606f272",
   "metadata": {},
   "outputs": [
    {
     "name": "stdout",
     "output_type": "stream",
     "text": [
      "Label: 8 , Predicted: 3\n"
     ]
    },
    {
     "data": {
      "image/png": "[encoded data removed]",
      "text/plain": [
       "<Figure size 432x288 with 1 Axes>"
      ]
     },
     "metadata": {
      "needs_background": "light"
     },
     "output_type": "display_data"
    }
   ],
   "source": [
    "img, label = test_dataset[1219]\n",
    "plt.imshow(img[0], cmap='gray')\n",
    "print('Label:', label, ', Predicted:', predict_image(img, model))"
   ]
  },
  {
   "cell_type": "code",
   "execution_count": 67,
   "id": "1b3b7cd6",
   "metadata": {},
   "outputs": [
    {
     "data": {
      "text/plain": [
       "{'val_loss': 0.5891129374504089, 'val_acc': 0.8666015863418579}"
      ]
     },
     "execution_count": 67,
     "metadata": {},
     "output_type": "execute_result"
    }
   ],
   "source": [
    "test_loader = DataLoader(test_dataset, batch_size=256)\n",
    "result = evaluate(model, test_loader)\n",
    "result"
   ]
  },
  {
   "cell_type": "code",
   "execution_count": 68,
   "id": "de9337ca",
   "metadata": {},
   "outputs": [],
   "source": [
    "torch.save(model.state_dict(), 'mnist-logistic.pth')"
   ]
  },
  {
   "cell_type": "code",
   "execution_count": 69,
   "id": "70bb571d",
   "metadata": {},
   "outputs": [
    {
     "data": {
      "text/plain": [
       "OrderedDict([('linear.weight',\n",
       "              tensor([[ 5.2306e-03,  3.0972e-02, -1.3440e-02,  ..., -2.1947e-02,\n",
       "                       -2.5387e-04,  2.8208e-02],\n",
       "                      [-3.3842e-03,  1.7860e-02, -3.2980e-02,  ...,  3.5243e-02,\n",
       "                       -3.7374e-03, -1.2441e-02],\n",
       "                      [-3.3185e-02, -3.4328e-02, -3.7770e-03,  ...,  3.4962e-02,\n",
       "                        2.6233e-02, -9.4764e-03],\n",
       "                      ...,\n",
       "                      [-2.4179e-02,  1.8332e-02,  1.6413e-02,  ..., -2.0281e-02,\n",
       "                        2.1680e-02,  3.8600e-04],\n",
       "                      [-2.2503e-03, -8.4562e-05, -1.2132e-02,  ..., -3.4568e-02,\n",
       "                       -1.6775e-02, -1.8599e-02],\n",
       "                      [-2.9928e-02,  1.7788e-02,  8.0988e-04,  ...,  2.4938e-02,\n",
       "                       -1.2329e-02, -7.2898e-03]])),\n",
       "             ('linear.bias',\n",
       "              tensor([-0.0475,  0.0861, -0.0213,  0.0044,  0.0565,  0.0504,  0.0243,  0.0505,\n",
       "                      -0.1316,  0.0002]))])"
      ]
     },
     "execution_count": 69,
     "metadata": {},
     "output_type": "execute_result"
    }
   ],
   "source": [
    "model.state_dict()"
   ]
  },
  {
   "cell_type": "code",
   "execution_count": 70,
   "id": "b546514f",
   "metadata": {},
   "outputs": [],
   "source": [
    "model2 = MnistModel()"
   ]
  },
  {
   "cell_type": "code",
   "execution_count": 71,
   "id": "ce3450fd",
   "metadata": {},
   "outputs": [
    {
     "data": {
      "text/plain": [
       "OrderedDict([('linear.weight',\n",
       "              tensor([[-2.7970e-02, -3.5047e-02,  1.3743e-02,  ..., -2.9870e-02,\n",
       "                       -1.6945e-02,  2.6352e-02],\n",
       "                      [ 3.5127e-02,  2.2180e-03,  1.6983e-02,  ..., -1.7140e-02,\n",
       "                       -3.2650e-02,  3.4751e-02],\n",
       "                      [-2.4890e-02, -7.8549e-03, -2.8087e-05,  ..., -1.1269e-02,\n",
       "                        6.5172e-03,  1.4461e-03],\n",
       "                      ...,\n",
       "                      [ 1.4221e-02,  1.2875e-02,  1.8418e-02,  ...,  2.1753e-02,\n",
       "                        2.5198e-02, -2.0842e-02],\n",
       "                      [-2.7248e-02,  3.0941e-02,  1.4287e-02,  ...,  1.0361e-02,\n",
       "                        1.6466e-03, -7.5649e-03],\n",
       "                      [-1.3845e-02,  2.0940e-02, -3.5689e-02,  ..., -2.1849e-02,\n",
       "                        3.3927e-02,  3.1519e-02]])),\n",
       "             ('linear.bias',\n",
       "              tensor([ 0.0221, -0.0229,  0.0004,  0.0020,  0.0270,  0.0211, -0.0225,  0.0058,\n",
       "                       0.0158,  0.0242]))])"
      ]
     },
     "execution_count": 71,
     "metadata": {},
     "output_type": "execute_result"
    }
   ],
   "source": [
    "model2.state_dict()"
   ]
  },
  {
   "cell_type": "code",
   "execution_count": 72,
   "id": "942fe9e1",
   "metadata": {},
   "outputs": [
    {
     "data": {
      "text/plain": [
       "{'val_loss': 2.288782835006714, 'val_acc': 0.15664061903953552}"
      ]
     },
     "execution_count": 72,
     "metadata": {},
     "output_type": "execute_result"
    }
   ],
   "source": [
    "evaluate(model2, test_loader)"
   ]
  },
  {
   "cell_type": "code",
   "execution_count": 73,
   "id": "30c14d72",
   "metadata": {},
   "outputs": [
    {
     "data": {
      "text/plain": [
       "OrderedDict([('linear.weight',\n",
       "              tensor([[ 5.2306e-03,  3.0972e-02, -1.3440e-02,  ..., -2.1947e-02,\n",
       "                       -2.5387e-04,  2.8208e-02],\n",
       "                      [-3.3842e-03,  1.7860e-02, -3.2980e-02,  ...,  3.5243e-02,\n",
       "                       -3.7374e-03, -1.2441e-02],\n",
       "                      [-3.3185e-02, -3.4328e-02, -3.7770e-03,  ...,  3.4962e-02,\n",
       "                        2.6233e-02, -9.4764e-03],\n",
       "                      ...,\n",
       "                      [-2.4179e-02,  1.8332e-02,  1.6413e-02,  ..., -2.0281e-02,\n",
       "                        2.1680e-02,  3.8600e-04],\n",
       "                      [-2.2503e-03, -8.4562e-05, -1.2132e-02,  ..., -3.4568e-02,\n",
       "                       -1.6775e-02, -1.8599e-02],\n",
       "                      [-2.9928e-02,  1.7788e-02,  8.0988e-04,  ...,  2.4938e-02,\n",
       "                       -1.2329e-02, -7.2898e-03]])),\n",
       "             ('linear.bias',\n",
       "              tensor([-0.0475,  0.0861, -0.0213,  0.0044,  0.0565,  0.0504,  0.0243,  0.0505,\n",
       "                      -0.1316,  0.0002]))])"
      ]
     },
     "execution_count": 73,
     "metadata": {},
     "output_type": "execute_result"
    }
   ],
   "source": [
    "model2.load_state_dict(torch.load('mnist-logistic.pth'))\n",
    "model2.state_dict()"
   ]
  },
  {
   "cell_type": "code",
   "execution_count": 74,
   "id": "eb7f79b9",
   "metadata": {},
   "outputs": [
    {
     "data": {
      "text/plain": [
       "{'val_loss': 0.5891129374504089, 'val_acc': 0.8666015863418579}"
      ]
     },
     "execution_count": 74,
     "metadata": {},
     "output_type": "execute_result"
    }
   ],
   "source": [
    "test_loader = DataLoader(test_dataset, batch_size=256)\n",
    "result = evaluate(model2, test_loader)\n",
    "result"
   ]
  },
  {
   "cell_type": "code",
   "execution_count": null,
   "id": "326272e8",
   "metadata": {},
   "outputs": [],
   "source": []
  }
 ],
 "metadata": {
  "kernelspec": {
   "display_name": "Python 3 (ipykernel)",
   "language": "python",
   "name": "python3"
  },
  "language_info": {
   "codemirror_mode": {
    "name": "ipython",
    "version": 3
   },
   "file_extension": ".py",
   "mimetype": "text/x-python",
   "name": "python",
   "nbconvert_exporter": "python",
   "pygments_lexer": "ipython3",
   "version": "3.9.12"
  }
 },
 "nbformat": 4,
 "nbformat_minor": 5
}
